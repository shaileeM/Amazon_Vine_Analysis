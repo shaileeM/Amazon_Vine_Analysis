{
  "nbformat": 4,
  "nbformat_minor": 0,
  "metadata": {
    "colab": {
      "name": "Vine_Review_Analysis.ipynb",
      "provenance": [],
      "collapsed_sections": []
    },
    "kernelspec": {
      "name": "python3",
      "display_name": "Python 3"
    },
    "language_info": {
      "name": "python"
    }
  },
  "cells": [
    {
      "cell_type": "code",
      "metadata": {
        "colab": {
          "base_uri": "https://localhost:8080/"
        },
        "id": "dIf-kqwPwCfp",
        "outputId": "896d818f-671b-4216-e0e5-df3f44a9da7f"
      },
      "source": [
        "import os\n",
        "# Find the latest version of spark 3.0  from http://www.apache.org/dist/spark/ and enter as the spark version\n",
        "# For example:\n",
        "# spark_version = 'spark-3.0.3'\n",
        "spark_version = 'spark-3.0.3'\n",
        "os.environ['SPARK_VERSION']=spark_version\n",
        "\n",
        "# Install Spark and Java\n",
        "!apt-get update\n",
        "!apt-get install openjdk-11-jdk-headless -qq > /dev/null\n",
        "!wget -q http://www.apache.org/dist/spark/$SPARK_VERSION/$SPARK_VERSION-bin-hadoop2.7.tgz\n",
        "!tar xf $SPARK_VERSION-bin-hadoop2.7.tgz\n",
        "!pip install -q findspark\n",
        "\n",
        "# Set Environment Variables\n",
        "import os\n",
        "os.environ[\"JAVA_HOME\"] = \"/usr/lib/jvm/java-11-openjdk-amd64\"\n",
        "os.environ[\"SPARK_HOME\"] = f\"/content/{spark_version}-bin-hadoop2.7\"\n",
        "\n",
        "\n",
        "# Start a SparkSession\n",
        "import findspark\n",
        "findspark.init()"
      ],
      "execution_count": 1,
      "outputs": [
        {
          "output_type": "stream",
          "text": [
            "\r0% [Working]\r            \rGet:1 http://security.ubuntu.com/ubuntu bionic-security InRelease [88.7 kB]\n",
            "Get:2 https://cloud.r-project.org/bin/linux/ubuntu bionic-cran40/ InRelease [3,626 B]\n",
            "Ign:3 https://developer.download.nvidia.com/compute/cuda/repos/ubuntu1804/x86_64  InRelease\n",
            "Hit:4 http://archive.ubuntu.com/ubuntu bionic InRelease\n",
            "Get:5 http://ppa.launchpad.net/c2d4u.team/c2d4u4.0+/ubuntu bionic InRelease [15.9 kB]\n",
            "Ign:6 https://developer.download.nvidia.com/compute/machine-learning/repos/ubuntu1804/x86_64  InRelease\n",
            "Hit:7 https://developer.download.nvidia.com/compute/cuda/repos/ubuntu1804/x86_64  Release\n",
            "Hit:8 https://developer.download.nvidia.com/compute/machine-learning/repos/ubuntu1804/x86_64  Release\n",
            "Get:9 http://archive.ubuntu.com/ubuntu bionic-updates InRelease [88.7 kB]\n",
            "Get:10 http://security.ubuntu.com/ubuntu bionic-security/main amd64 Packages [2,294 kB]\n",
            "Get:11 http://archive.ubuntu.com/ubuntu bionic-backports InRelease [74.6 kB]\n",
            "Get:12 http://security.ubuntu.com/ubuntu bionic-security/restricted amd64 Packages [543 kB]\n",
            "Hit:13 http://ppa.launchpad.net/cran/libgit2/ubuntu bionic InRelease\n",
            "Get:14 http://security.ubuntu.com/ubuntu bionic-security/universe amd64 Packages [1,424 kB]\n",
            "Hit:15 http://ppa.launchpad.net/deadsnakes/ppa/ubuntu bionic InRelease\n",
            "Hit:16 http://ppa.launchpad.net/graphics-drivers/ppa/ubuntu bionic InRelease\n",
            "Get:19 http://ppa.launchpad.net/c2d4u.team/c2d4u4.0+/ubuntu bionic/main Sources [1,792 kB]\n",
            "Get:20 http://archive.ubuntu.com/ubuntu bionic-updates/multiverse amd64 Packages [34.4 kB]\n",
            "Get:21 http://archive.ubuntu.com/ubuntu bionic-updates/main amd64 Packages [2,730 kB]\n",
            "Get:22 http://ppa.launchpad.net/c2d4u.team/c2d4u4.0+/ubuntu bionic/main amd64 Packages [917 kB]\n",
            "Get:23 http://archive.ubuntu.com/ubuntu bionic-updates/restricted amd64 Packages [575 kB]\n",
            "Get:24 http://archive.ubuntu.com/ubuntu bionic-updates/universe amd64 Packages [2,199 kB]\n",
            "Fetched 12.8 MB in 4s (3,205 kB/s)\n",
            "Reading package lists... Done\n"
          ],
          "name": "stdout"
        }
      ]
    },
    {
      "cell_type": "code",
      "metadata": {
        "id": "-XmX7oPswLXH"
      },
      "source": [
        "from pyspark.sql import SparkSession\n",
        "spark = SparkSession.builder.appName(\"M16-Amazon-Challenge\").config(\"spark.driver.extraClassPath\",\"/content/postgresql-42.2.16.jar\").getOrCreate()"
      ],
      "execution_count": 2,
      "outputs": []
    },
    {
      "cell_type": "code",
      "metadata": {
        "colab": {
          "base_uri": "https://localhost:8080/"
        },
        "id": "NeHJDETawQxN",
        "outputId": "cf1baf95-6cc0-47a6-d57b-5cf10b240a2b"
      },
      "source": [
        "from pyspark import SparkFiles\n",
        "url = \"https://s3.amazonaws.com/amazon-reviews-pds/tsv/amazon_reviews_us_Personal_Care_Appliances_v1_00.tsv.gz\"\n",
        "spark.sparkContext.addFile(url)\n",
        "vine_table = spark.read.option(\"encoding\", \"UTF-8\").csv(SparkFiles.get(\"\"), sep=\"\\t\", header=True, inferSchema=True)\n",
        "vine_table.show()"
      ],
      "execution_count": 4,
      "outputs": [
        {
          "output_type": "stream",
          "text": [
            "+-----------+-----------+--------------+----------+--------------+--------------------+--------------------+-----------+-------------+-----------+----+-----------------+--------------------+--------------------+-----------+\n",
            "|marketplace|customer_id|     review_id|product_id|product_parent|       product_title|    product_category|star_rating|helpful_votes|total_votes|vine|verified_purchase|     review_headline|         review_body|review_date|\n",
            "+-----------+-----------+--------------+----------+--------------+--------------------+--------------------+-----------+-------------+-----------+----+-----------------+--------------------+--------------------+-----------+\n",
            "|         US|   32114233|R1QX6706ZWJ1P5|B00OYRW4UE|     223980852|Elite Sportz Exer...|Personal_Care_App...|          5|            0|          0|   N|                Y|Good quality. Shi...|Exactly as descri...| 2015-08-31|\n",
            "|         US|   18125776|R3QWMLJHIW6P37|B0000537JQ|     819771537|     Ezy Dose Weekly|Personal_Care_App...|          5|            0|          0|   N|                Y|          Five Stars|         It is great| 2015-08-31|\n",
            "|         US|   19917519|R14Z1VR1N0Z9G6|B00HXXO332|     849307176|Pulse Oximeter, B...|Personal_Care_App...|          5|            1|          1|   N|                Y|It's really nice ...|It's really nice ...| 2015-08-31|\n",
            "|         US|   18277171| R25ZRJL0GH0U0|B00EOB0JA2|     700864740|SE Tools Tool Kit...|Personal_Care_App...|          2|            0|          0|   N|                Y|           Two Stars|The kit works fin...| 2015-08-31|\n",
            "|         US|    2593270|R3837KYH7AZNIY|B00OC2O1UC|     794298839|doTERRA HD Clear ...|Personal_Care_App...|          4|            0|          1|   N|                Y|          Four Stars|It works better t...| 2015-08-31|\n",
            "|         US|    2592955|R2MN0QYCY6EVIV|B00HES9CMS|     318730927|Viva Naturals #1 ...|Personal_Care_App...|          5|            0|          0|   N|                Y|      not bad at all|I added to my oat...| 2015-08-31|\n",
            "|         US|   15168265|R3AN2UJ1D42ZS0|B0016BFR4G|     887476137|Uncle Lee's Organ...|Personal_Care_App...|          5|            0|          0|   N|                Y|Mild, enjoyable t...|Husband drinks th...| 2015-08-31|\n",
            "|         US|   13761624|R3U29ZLUWEEK4M|B00K504UUG|     458706868|Syrtenty Electrod...|Personal_Care_App...|          5|            0|          0|   N|                Y|          Five Stars|       Good quality.| 2015-08-31|\n",
            "|         US|   37070734|R16ZDMJJHK796C|B00HES9CMS|     318730927|Viva Naturals #1 ...|Personal_Care_App...|          5|            0|          0|   N|                N|        High Quality|This is high qual...| 2015-08-31|\n",
            "|         US|   29615023| RRRDOEJZD1Y22|B00P6TUO5G|     170248843|Viva Naturals Org...|Personal_Care_App...|          4|            0|          0|   N|                Y|          we like it|Buying more produ...| 2015-08-31|\n",
            "|         US|   47893062|R2KR5ZEAS859DK|B0006VJ6TO|     412568457|Body Back Company...|Personal_Care_App...|          5|            0|          0|   N|                Y|          Five Stars|    Their best cane.| 2015-08-31|\n",
            "|         US|    2582596| RR7PGQY763IHF|B00H9L7VIW|     851045898|boostULTIMATE - 6...|Personal_Care_App...|          5|            0|          0|   N|                Y|       Great product|Great product! Ma...| 2015-08-31|\n",
            "|         US|   21969415| RN37YYZBP9BMP|B00P1JNZUW|     274294586|doTERRA Veráge Sk...|Personal_Care_App...|          5|            4|          4|   N|                Y|Love the prouduct...|Love the prouduct...| 2015-08-31|\n",
            "|         US|   43153609| R1UXGB70OR5TW|B00N5HD340|     955577225|      Straight Razor|Personal_Care_App...|          5|            0|          0|   N|                Y|          Five Stars|          great buy.| 2015-08-31|\n",
            "|         US|   17782951|R1OC5ZNXSGO7P1|B0007DHMVK|      78719480|BONGER Massage To...|Personal_Care_App...|          5|            0|          0|   N|                Y|          Five stars|These are so much...| 2015-08-31|\n",
            "|         US|   13710264|R1W4ZN8BPVNWK3|B0002JG2NI|     900996767|Home Health Casto...|Personal_Care_App...|          5|            0|          0|   N|                Y|It works for home...|It works for home...| 2015-08-31|\n",
            "|         US|   30720884|R2KE33CNN5X2B0|B00OYRW4UE|     223980852|Elite Sportz Exer...|Personal_Care_App...|          5|            0|          0|   N|                Y|These work great ...|These work great ...| 2015-08-31|\n",
            "|         US|   35206254|R1A26EDSO0U5N6|B00598WT0C|     218203731|Aloha Eyewear “St...|Personal_Care_App...|          5|            0|          0|   N|                Y|             awesome|for anyone needin...| 2015-08-31|\n",
            "|         US|   10261156|R3L81GOHVS3E9P|B0006VJ6TO|     412568457|Body Back Company...|Personal_Care_App...|          5|            0|          0|   N|                Y| Deep tissue massage|This works perfec...| 2015-08-31|\n",
            "|         US|   50708344| RNFW9SWC5D0YF|B00J7G96NK|     256041044|Oral B Glide Flos...|Personal_Care_App...|          5|            2|          2|   N|                N|These are an esse...|Not only are thes...| 2015-08-31|\n",
            "+-----------+-----------+--------------+----------+--------------+--------------------+--------------------+-----------+-------------+-----------+----+-----------------+--------------------+--------------------+-----------+\n",
            "only showing top 20 rows\n",
            "\n"
          ],
          "name": "stdout"
        }
      ]
    },
    {
      "cell_type": "code",
      "metadata": {
        "colab": {
          "base_uri": "https://localhost:8080/"
        },
        "id": "_qLAw6w9xfDt",
        "outputId": "7e222d7a-ce52-4c78-b7cd-92fc35beaca8"
      },
      "source": [
        "####################### Deliverable 2 ###########################\n",
        "\n",
        "#Retrieve all the rows where the total_votes count is equal to or greater than 20\n",
        "\n",
        "#review_id_df.filter(review_id_df[\"review_id\"] == 'R1QX6706ZWJ1P5').show()\n",
        "\n",
        "vine_table = vine_table.filter(vine_table[\"total_votes\"] >= '20')\n",
        "vine_table.show()"
      ],
      "execution_count": 5,
      "outputs": [
        {
          "output_type": "stream",
          "text": [
            "+-----------+-----------+--------------+----------+--------------+--------------------+--------------------+-----------+-------------+-----------+----+-----------------+--------------------+--------------------+-----------+\n",
            "|marketplace|customer_id|     review_id|product_id|product_parent|       product_title|    product_category|star_rating|helpful_votes|total_votes|vine|verified_purchase|     review_headline|         review_body|review_date|\n",
            "+-----------+-----------+--------------+----------+--------------+--------------------+--------------------+-----------+-------------+-----------+----+-----------------+--------------------+--------------------+-----------+\n",
            "|         US|   26034089|R2PT2X8FMYFCV3|B00PV2QSLW|     991555077|Pride Mobility Go...|Personal_Care_App...|          5|           39|         41|   N|                Y|          Five Stars|Nice not too heav...| 2015-08-18|\n",
            "|         US|   19214268| RGCUQSH80SYY7|B00H8ZTLLY|     548146182|doTERRA On Guard ...|Personal_Care_App...|          1|           36|         47|   N|                N|These are natural...|After carrying th...| 2015-08-18|\n",
            "|         US|   42150992|R3E6EI073KP0AL|B00V2L5JRA|     417635592|Xtreme Comforts C...|Personal_Care_App...|          2|           21|         36|   N|                Y|Bad fit in a full...|I am 6'2&#34; tal...| 2015-08-18|\n",
            "|         US|   45452861|R3MYTXW7B4Z6YW|B0118Q011M|      68185001|URPOWER 2nd Gener...|Personal_Care_App...|          4|          687|        711|   N|                Y|Nice large volume...|Unlike most of th...| 2015-08-17|\n",
            "|         US|   52683195|R2WMF1IWN5ZYO4|B00H8ZTLLY|     548146182|doTERRA On Guard ...|Personal_Care_App...|          5|           18|         24|   N|                Y|Keeping you healt...|These are suppose...| 2015-08-12|\n",
            "|         US|   21846884| ROX6L7VJFS2P7|B0118Q011M|      68185001|URPOWER 2nd Gener...|Personal_Care_App...|          5|          339|        371|   N|                N|Powerful and Long...|[[VIDEOID:c484c8f...| 2015-08-09|\n",
            "|         US|    1843395| RRKAST7D4QTW8|B0006VJ6TO|     412568457|Body Back Company...|Personal_Care_App...|          1|           20|         27|   N|                N|           Defective|The knob that is ...| 2015-08-08|\n",
            "|         US|   28543917|R2QBKTWBDPL8BF|B0118Q011M|      68185001|URPOWER 2nd Gener...|Personal_Care_App...|          5|           65|         83|   N|                N|Highly recommend ...|Lately I am so st...| 2015-08-07|\n",
            "|         US|     823020|R3ULT9I0U79N8L|B00ZORXZC4|     997310024|Baetea Weight Los...|Personal_Care_App...|          5|           49|         57|   N|                N|I love the blend ...|I love the blend ...| 2015-08-05|\n",
            "|         US|    5234479|R20LABVEB8O83Q|B00V2L5JRA|     417635592|Xtreme Comforts C...|Personal_Care_App...|          3|           11|         23|   N|                Y|made real nice bu...|This product is m...| 2015-08-03|\n",
            "|         US|   30520248| RAC19YVDYSIKB|B011J79PNK|     524658987|iReliev TENS + EM...|Personal_Care_App...|          5|          161|        178|   N|                Y|Awesome experienc...|Just ordered it t...| 2015-08-01|\n",
            "|         US|   19101625|R2Y371XG6AXDOJ|B00H9L7VIW|     851045898|boostULTIMATE - 6...|Personal_Care_App...|          1|           16|         30|   N|                Y|Regurgitated posi...|Ummmm, can you al...| 2015-07-22|\n",
            "|         US|   20322164|R2AYFA0X50V4BN|B00H8ZTLLY|     548146182|doTERRA On Guard ...|Personal_Care_App...|          5|           19|         20|   N|                Y|Perfect travel size.|I love these! Per...| 2015-07-19|\n",
            "|         US|   23767004|R1327SZTWDHLID|B00WLTPRYM|     543843158|Baetea Weight Los...|Personal_Care_App...|          1|           12|         24|   N|                Y|This is a rip off...|This is a rip off...| 2015-07-15|\n",
            "|         US|   19216116|R28VFN6VN0VBTB|B00HES9CMS|     318730927|Viva Naturals #1 ...|Personal_Care_App...|          1|            7|         20|   N|                N| \"BEST TASTING\" ??!!|&#34;BEST TASTING...| 2015-07-15|\n",
            "|         US|   33887643|R1I52HQDJFY2G0|B00LMTHSF8|     978453256|Shaveway 100% Pur...|Personal_Care_App...|          4|           18|         20|   N|                Y|Very good badger ...|This badger shavi...| 2015-07-13|\n",
            "|         US|     290020|R1FANBM03J1IHE|B00H9L7VIW|     851045898|boostULTIMATE - 6...|Personal_Care_App...|          5|           24|         31|   N|                N|This does what it...|This product I've...| 2015-07-09|\n",
            "|         US|   16050543|R2X15QGPQ9ESRU|B00H9L7VIW|     851045898|boostULTIMATE - 6...|Personal_Care_App...|          1|           12|         23|   N|                Y|save your money scam|I should have lis...| 2015-06-27|\n",
            "|         US|    6560720|R1F7CUCJIBPS7L|B00LPHJW4M|     353133521|Bestrice Ombre Di...|Personal_Care_App...|          3|           20|         21|   N|                Y|Only for people w...|Unless you have r...| 2015-06-23|\n",
            "|         US|   51695938|R3JV04CHH10FFR|B00P8ED24E|     378774243|Syrtenty Snap Ele...|Personal_Care_App...|          5|           32|         32|   N|                Y|Large butterfly p...|Finally!  I've be...| 2015-06-20|\n",
            "+-----------+-----------+--------------+----------+--------------+--------------------+--------------------+-----------+-------------+-----------+----+-----------------+--------------------+--------------------+-----------+\n",
            "only showing top 20 rows\n",
            "\n"
          ],
          "name": "stdout"
        }
      ]
    },
    {
      "cell_type": "code",
      "metadata": {
        "colab": {
          "base_uri": "https://localhost:8080/"
        },
        "id": "ntOnQGsuxwts",
        "outputId": "5adaf208-3fa0-4cd6-ee8e-74981e9b9cb6"
      },
      "source": [
        "#retrieve all the rows where the number of helpful_votes divided by total_votes is equal to or greater than 50%.\n",
        "\n",
        "\n",
        "vine_table = vine_table.filter((vine_table[\"helpful_votes\"]/vine_table[\"total_votes\"]) >= '0.5')\n",
        "\n",
        "#filtered_df_new = filtered_df.filter(filtered_df[\"helpful_votes\"] == '39')\n",
        "vine_table.show()"
      ],
      "execution_count": 6,
      "outputs": [
        {
          "output_type": "stream",
          "text": [
            "+-----------+-----------+--------------+----------+--------------+--------------------+--------------------+-----------+-------------+-----------+----+-----------------+--------------------+--------------------+-----------+\n",
            "|marketplace|customer_id|     review_id|product_id|product_parent|       product_title|    product_category|star_rating|helpful_votes|total_votes|vine|verified_purchase|     review_headline|         review_body|review_date|\n",
            "+-----------+-----------+--------------+----------+--------------+--------------------+--------------------+-----------+-------------+-----------+----+-----------------+--------------------+--------------------+-----------+\n",
            "|         US|   26034089|R2PT2X8FMYFCV3|B00PV2QSLW|     991555077|Pride Mobility Go...|Personal_Care_App...|          5|           39|         41|   N|                Y|          Five Stars|Nice not too heav...| 2015-08-18|\n",
            "|         US|   19214268| RGCUQSH80SYY7|B00H8ZTLLY|     548146182|doTERRA On Guard ...|Personal_Care_App...|          1|           36|         47|   N|                N|These are natural...|After carrying th...| 2015-08-18|\n",
            "|         US|   42150992|R3E6EI073KP0AL|B00V2L5JRA|     417635592|Xtreme Comforts C...|Personal_Care_App...|          2|           21|         36|   N|                Y|Bad fit in a full...|I am 6'2&#34; tal...| 2015-08-18|\n",
            "|         US|   45452861|R3MYTXW7B4Z6YW|B0118Q011M|      68185001|URPOWER 2nd Gener...|Personal_Care_App...|          4|          687|        711|   N|                Y|Nice large volume...|Unlike most of th...| 2015-08-17|\n",
            "|         US|   52683195|R2WMF1IWN5ZYO4|B00H8ZTLLY|     548146182|doTERRA On Guard ...|Personal_Care_App...|          5|           18|         24|   N|                Y|Keeping you healt...|These are suppose...| 2015-08-12|\n",
            "|         US|   21846884| ROX6L7VJFS2P7|B0118Q011M|      68185001|URPOWER 2nd Gener...|Personal_Care_App...|          5|          339|        371|   N|                N|Powerful and Long...|[[VIDEOID:c484c8f...| 2015-08-09|\n",
            "|         US|    1843395| RRKAST7D4QTW8|B0006VJ6TO|     412568457|Body Back Company...|Personal_Care_App...|          1|           20|         27|   N|                N|           Defective|The knob that is ...| 2015-08-08|\n",
            "|         US|   28543917|R2QBKTWBDPL8BF|B0118Q011M|      68185001|URPOWER 2nd Gener...|Personal_Care_App...|          5|           65|         83|   N|                N|Highly recommend ...|Lately I am so st...| 2015-08-07|\n",
            "|         US|     823020|R3ULT9I0U79N8L|B00ZORXZC4|     997310024|Baetea Weight Los...|Personal_Care_App...|          5|           49|         57|   N|                N|I love the blend ...|I love the blend ...| 2015-08-05|\n",
            "|         US|   30520248| RAC19YVDYSIKB|B011J79PNK|     524658987|iReliev TENS + EM...|Personal_Care_App...|          5|          161|        178|   N|                Y|Awesome experienc...|Just ordered it t...| 2015-08-01|\n",
            "|         US|   19101625|R2Y371XG6AXDOJ|B00H9L7VIW|     851045898|boostULTIMATE - 6...|Personal_Care_App...|          1|           16|         30|   N|                Y|Regurgitated posi...|Ummmm, can you al...| 2015-07-22|\n",
            "|         US|   20322164|R2AYFA0X50V4BN|B00H8ZTLLY|     548146182|doTERRA On Guard ...|Personal_Care_App...|          5|           19|         20|   N|                Y|Perfect travel size.|I love these! Per...| 2015-07-19|\n",
            "|         US|   23767004|R1327SZTWDHLID|B00WLTPRYM|     543843158|Baetea Weight Los...|Personal_Care_App...|          1|           12|         24|   N|                Y|This is a rip off...|This is a rip off...| 2015-07-15|\n",
            "|         US|   33887643|R1I52HQDJFY2G0|B00LMTHSF8|     978453256|Shaveway 100% Pur...|Personal_Care_App...|          4|           18|         20|   N|                Y|Very good badger ...|This badger shavi...| 2015-07-13|\n",
            "|         US|     290020|R1FANBM03J1IHE|B00H9L7VIW|     851045898|boostULTIMATE - 6...|Personal_Care_App...|          5|           24|         31|   N|                N|This does what it...|This product I've...| 2015-07-09|\n",
            "|         US|   16050543|R2X15QGPQ9ESRU|B00H9L7VIW|     851045898|boostULTIMATE - 6...|Personal_Care_App...|          1|           12|         23|   N|                Y|save your money scam|I should have lis...| 2015-06-27|\n",
            "|         US|    6560720|R1F7CUCJIBPS7L|B00LPHJW4M|     353133521|Bestrice Ombre Di...|Personal_Care_App...|          3|           20|         21|   N|                Y|Only for people w...|Unless you have r...| 2015-06-23|\n",
            "|         US|   51695938|R3JV04CHH10FFR|B00P8ED24E|     378774243|Syrtenty Snap Ele...|Personal_Care_App...|          5|           32|         32|   N|                Y|Large butterfly p...|Finally!  I've be...| 2015-06-20|\n",
            "|         US|   52728066| R9F7EN48ULXMD|B00WLTPRYM|     543843158|Baetea Weight Los...|Personal_Care_App...|          1|           11|         20|   N|                Y|I wasted my money...|I wasted my money...| 2015-06-15|\n",
            "|         US|   43963820|R1K0BP4TF3U8EH|B00WLTPRYM|     543843158|Baetea Weight Los...|Personal_Care_App...|          5|           23|         37|   N|                Y|    It really works!|I was given this ...| 2015-06-14|\n",
            "+-----------+-----------+--------------+----------+--------------+--------------------+--------------------+-----------+-------------+-----------+----+-----------------+--------------------+--------------------+-----------+\n",
            "only showing top 20 rows\n",
            "\n"
          ],
          "name": "stdout"
        }
      ]
    },
    {
      "cell_type": "code",
      "metadata": {
        "colab": {
          "base_uri": "https://localhost:8080/"
        },
        "id": "WYjfvpnAx4AR",
        "outputId": "32f6001a-9325-46fd-83fa-d1a2c05804af"
      },
      "source": [
        "#retrieves all the rows where a review was written as part of the Vine program (paid), vine == 'Y'\n",
        "\n",
        "vine_table_paid = vine_table.filter(vine_table['vine'] == 'Y')\n",
        "vine_table_paid.show()"
      ],
      "execution_count": 8,
      "outputs": [
        {
          "output_type": "stream",
          "text": [
            "+-----------+-----------+--------------+----------+--------------+--------------------+--------------------+-----------+-------------+-----------+----+-----------------+--------------------+--------------------+-----------+\n",
            "|marketplace|customer_id|     review_id|product_id|product_parent|       product_title|    product_category|star_rating|helpful_votes|total_votes|vine|verified_purchase|     review_headline|         review_body|review_date|\n",
            "+-----------+-----------+--------------+----------+--------------+--------------------+--------------------+-----------+-------------+-----------+----+-----------------+--------------------+--------------------+-----------+\n",
            "|         US|   35353346|R3R2RHQWEKX5NL|B00DSICT1Y|     427004417|uComfy Shiatsu Fo...|Personal_Care_App...|          5|           81|         89|   Y|                N|You can hear your...|First off one bit...| 2014-01-13|\n",
            "|         US|   50929595|R1RZ4JZO8DAP7H|B00DSICT1Y|     427004417|uComfy Shiatsu Fo...|Personal_Care_App...|          3|          200|        227|   Y|                N|Good shiatsu and ...|[[VIDEOID:mo1RJDR...| 2014-01-12|\n",
            "|         US|   29142162| RQ94HI0WM8KIG|B00DSICT1Y|     427004417|uComfy Shiatsu Fo...|Personal_Care_App...|          5|          174|        188|   Y|                N|Great Massager - ...|Usually when I go...| 2014-01-08|\n",
            "+-----------+-----------+--------------+----------+--------------+--------------------+--------------------+-----------+-------------+-----------+----+-----------------+--------------------+--------------------+-----------+\n",
            "\n"
          ],
          "name": "stdout"
        }
      ]
    },
    {
      "cell_type": "code",
      "metadata": {
        "colab": {
          "base_uri": "https://localhost:8080/"
        },
        "id": "KhiCSu1cyBPV",
        "outputId": "7ca8b136-96a3-4604-94ff-e65775241605"
      },
      "source": [
        "#retrieves all the rows where a review was written as part of the Vine program (paid), vine == 'N'\n",
        "vine_table_unpaid = vine_table.filter(vine_table['vine'] == 'N')\n",
        "vine_table_unpaid.show()"
      ],
      "execution_count": 9,
      "outputs": [
        {
          "output_type": "stream",
          "text": [
            "+-----------+-----------+--------------+----------+--------------+--------------------+--------------------+-----------+-------------+-----------+----+-----------------+--------------------+--------------------+-----------+\n",
            "|marketplace|customer_id|     review_id|product_id|product_parent|       product_title|    product_category|star_rating|helpful_votes|total_votes|vine|verified_purchase|     review_headline|         review_body|review_date|\n",
            "+-----------+-----------+--------------+----------+--------------+--------------------+--------------------+-----------+-------------+-----------+----+-----------------+--------------------+--------------------+-----------+\n",
            "|         US|   26034089|R2PT2X8FMYFCV3|B00PV2QSLW|     991555077|Pride Mobility Go...|Personal_Care_App...|          5|           39|         41|   N|                Y|          Five Stars|Nice not too heav...| 2015-08-18|\n",
            "|         US|   19214268| RGCUQSH80SYY7|B00H8ZTLLY|     548146182|doTERRA On Guard ...|Personal_Care_App...|          1|           36|         47|   N|                N|These are natural...|After carrying th...| 2015-08-18|\n",
            "|         US|   42150992|R3E6EI073KP0AL|B00V2L5JRA|     417635592|Xtreme Comforts C...|Personal_Care_App...|          2|           21|         36|   N|                Y|Bad fit in a full...|I am 6'2&#34; tal...| 2015-08-18|\n",
            "|         US|   45452861|R3MYTXW7B4Z6YW|B0118Q011M|      68185001|URPOWER 2nd Gener...|Personal_Care_App...|          4|          687|        711|   N|                Y|Nice large volume...|Unlike most of th...| 2015-08-17|\n",
            "|         US|   52683195|R2WMF1IWN5ZYO4|B00H8ZTLLY|     548146182|doTERRA On Guard ...|Personal_Care_App...|          5|           18|         24|   N|                Y|Keeping you healt...|These are suppose...| 2015-08-12|\n",
            "|         US|   21846884| ROX6L7VJFS2P7|B0118Q011M|      68185001|URPOWER 2nd Gener...|Personal_Care_App...|          5|          339|        371|   N|                N|Powerful and Long...|[[VIDEOID:c484c8f...| 2015-08-09|\n",
            "|         US|    1843395| RRKAST7D4QTW8|B0006VJ6TO|     412568457|Body Back Company...|Personal_Care_App...|          1|           20|         27|   N|                N|           Defective|The knob that is ...| 2015-08-08|\n",
            "|         US|   28543917|R2QBKTWBDPL8BF|B0118Q011M|      68185001|URPOWER 2nd Gener...|Personal_Care_App...|          5|           65|         83|   N|                N|Highly recommend ...|Lately I am so st...| 2015-08-07|\n",
            "|         US|     823020|R3ULT9I0U79N8L|B00ZORXZC4|     997310024|Baetea Weight Los...|Personal_Care_App...|          5|           49|         57|   N|                N|I love the blend ...|I love the blend ...| 2015-08-05|\n",
            "|         US|   30520248| RAC19YVDYSIKB|B011J79PNK|     524658987|iReliev TENS + EM...|Personal_Care_App...|          5|          161|        178|   N|                Y|Awesome experienc...|Just ordered it t...| 2015-08-01|\n",
            "|         US|   19101625|R2Y371XG6AXDOJ|B00H9L7VIW|     851045898|boostULTIMATE - 6...|Personal_Care_App...|          1|           16|         30|   N|                Y|Regurgitated posi...|Ummmm, can you al...| 2015-07-22|\n",
            "|         US|   20322164|R2AYFA0X50V4BN|B00H8ZTLLY|     548146182|doTERRA On Guard ...|Personal_Care_App...|          5|           19|         20|   N|                Y|Perfect travel size.|I love these! Per...| 2015-07-19|\n",
            "|         US|   23767004|R1327SZTWDHLID|B00WLTPRYM|     543843158|Baetea Weight Los...|Personal_Care_App...|          1|           12|         24|   N|                Y|This is a rip off...|This is a rip off...| 2015-07-15|\n",
            "|         US|   33887643|R1I52HQDJFY2G0|B00LMTHSF8|     978453256|Shaveway 100% Pur...|Personal_Care_App...|          4|           18|         20|   N|                Y|Very good badger ...|This badger shavi...| 2015-07-13|\n",
            "|         US|     290020|R1FANBM03J1IHE|B00H9L7VIW|     851045898|boostULTIMATE - 6...|Personal_Care_App...|          5|           24|         31|   N|                N|This does what it...|This product I've...| 2015-07-09|\n",
            "|         US|   16050543|R2X15QGPQ9ESRU|B00H9L7VIW|     851045898|boostULTIMATE - 6...|Personal_Care_App...|          1|           12|         23|   N|                Y|save your money scam|I should have lis...| 2015-06-27|\n",
            "|         US|    6560720|R1F7CUCJIBPS7L|B00LPHJW4M|     353133521|Bestrice Ombre Di...|Personal_Care_App...|          3|           20|         21|   N|                Y|Only for people w...|Unless you have r...| 2015-06-23|\n",
            "|         US|   51695938|R3JV04CHH10FFR|B00P8ED24E|     378774243|Syrtenty Snap Ele...|Personal_Care_App...|          5|           32|         32|   N|                Y|Large butterfly p...|Finally!  I've be...| 2015-06-20|\n",
            "|         US|   52728066| R9F7EN48ULXMD|B00WLTPRYM|     543843158|Baetea Weight Los...|Personal_Care_App...|          1|           11|         20|   N|                Y|I wasted my money...|I wasted my money...| 2015-06-15|\n",
            "|         US|   43963820|R1K0BP4TF3U8EH|B00WLTPRYM|     543843158|Baetea Weight Los...|Personal_Care_App...|          5|           23|         37|   N|                Y|    It really works!|I was given this ...| 2015-06-14|\n",
            "+-----------+-----------+--------------+----------+--------------+--------------------+--------------------+-----------+-------------+-----------+----+-----------------+--------------------+--------------------+-----------+\n",
            "only showing top 20 rows\n",
            "\n"
          ],
          "name": "stdout"
        }
      ]
    },
    {
      "cell_type": "code",
      "metadata": {
        "colab": {
          "base_uri": "https://localhost:8080/",
          "height": 81
        },
        "id": "mt3j5vCEyJD1",
        "outputId": "a5d29a0f-5459-45e1-d158-1e95d8980e89"
      },
      "source": [
        "#Determine the total number of reviews, the number of 5-star reviews, \n",
        "#and the percentage of 5-star reviews for the two types of review (paid vs unpaid).\n",
        "import pandas as pd\n",
        "\n",
        "# Total number of reviews\n",
        "paid_total_reviews = vine_table_paid.select(\"star_rating\").count()\n",
        "unpaid_total_reviews = vine_table_unpaid.select(\"star_rating\").count()\n",
        "\n",
        "#Number of 5-star reviews\n",
        "paid_5_star = vine_table_paid[vine_table_paid[\"star_rating\"] == '5'].count()\n",
        "unpaid_5_star = vine_table_unpaid[vine_table_unpaid[\"star_rating\"] == '5'].count()\n",
        "\n",
        "#Percentage of 5 start reviews \n",
        "percentage_paid_5_star = paid_5_star/paid_total_reviews * 100\n",
        "percentage_unpaid_5_star = unpaid_5_star/unpaid_total_reviews * 100\n",
        "\n",
        "\n",
        "data = {'paid_total_reviews':[paid_total_reviews], 'unpaid_total_reviews':[unpaid_total_reviews], \n",
        "        'paid_5_star':[unpaid_total_reviews], 'unpaid_5_star':[unpaid_5_star],\n",
        "        'percentage_paid_5_star':[percentage_paid_5_star],'percentage_unpaid_5_star':[percentage_unpaid_5_star]} \n",
        "\n",
        "final_df = pd.DataFrame(data)\n",
        "final_df.reset_index(drop=True, inplace=True)\n",
        "final_df"
      ],
      "execution_count": 20,
      "outputs": [
        {
          "output_type": "execute_result",
          "data": {
            "text/html": [
              "<div>\n",
              "<style scoped>\n",
              "    .dataframe tbody tr th:only-of-type {\n",
              "        vertical-align: middle;\n",
              "    }\n",
              "\n",
              "    .dataframe tbody tr th {\n",
              "        vertical-align: top;\n",
              "    }\n",
              "\n",
              "    .dataframe thead th {\n",
              "        text-align: right;\n",
              "    }\n",
              "</style>\n",
              "<table border=\"1\" class=\"dataframe\">\n",
              "  <thead>\n",
              "    <tr style=\"text-align: right;\">\n",
              "      <th></th>\n",
              "      <th>paid_total_reviews</th>\n",
              "      <th>unpaid_total_reviews</th>\n",
              "      <th>paid_5_star</th>\n",
              "      <th>unpaid_5_star</th>\n",
              "      <th>percentage_paid_5_star</th>\n",
              "      <th>percentage_unpaid_5_star</th>\n",
              "    </tr>\n",
              "  </thead>\n",
              "  <tbody>\n",
              "    <tr>\n",
              "      <th>0</th>\n",
              "      <td>3</td>\n",
              "      <td>3094</td>\n",
              "      <td>3094</td>\n",
              "      <td>1704</td>\n",
              "      <td>66.666667</td>\n",
              "      <td>55.074337</td>\n",
              "    </tr>\n",
              "  </tbody>\n",
              "</table>\n",
              "</div>"
            ],
            "text/plain": [
              "   paid_total_reviews  ...  percentage_unpaid_5_star\n",
              "0                   3  ...                 55.074337\n",
              "\n",
              "[1 rows x 6 columns]"
            ]
          },
          "metadata": {},
          "execution_count": 20
        }
      ]
    }
  ]
}